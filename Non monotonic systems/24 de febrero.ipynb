{
 "cells": [
  {
   "metadata": {},
   "cell_type": "markdown",
   "source": [
    "Case 4: Financial Advisory System\n",
    "\n",
    "Description: Design a system that offers personalized financial\n",
    "advice based on the user’s profile.\n",
    "\n",
    "Example: Advice on investments, savings, and retirement planning.\n",
    "\n",
    "Components: Knowledge base with financial strategies and risk\n",
    "profiles, inference engine to generate recommendations, user\n",
    "interface for inputting financial information."
   ],
   "id": "dbbee6960eb8384b"
  },
  {
   "metadata": {},
   "cell_type": "markdown",
   "source": "## DefaultLogic",
   "id": "a719ee28dd042356"
  },
  {
   "metadata": {
    "ExecuteTime": {
     "end_time": "2025-02-26T03:10:09.247133Z",
     "start_time": "2025-02-26T03:10:09.168024Z"
    }
   },
   "cell_type": "code",
   "source": [
    "class DefaultLogic:\n",
    "    def __init__(self):\n",
    "        self.hechos = set()  # Conjunto de hechos conocidos\n",
    "        self.excepciones = set()  # Conjunto de excepciones\n",
    "\n",
    "    def add_fact(self, fact):\n",
    "        \"\"\" Agrega un hecho al conocimiento \"\"\"\n",
    "        self.hechos.add(fact)\n",
    "\n",
    "    def add_exception(self, exception):\n",
    "        \"\"\" Agrega una excepción a una regla \"\"\"\n",
    "        self.excepciones.add(exception)\n",
    "\n",
    "    def infer(self, entity, default_rule):\n",
    "        \"\"\" Realiza una inferencia usando lógica por defecto \"\"\"\n",
    "        try:\n",
    "            if not isinstance(default_rule, tuple) or len(default_rule) != 3:\n",
    "                raise ValueError(\"La regla debe ser una tupla con tres elementos: (prerrequisito, suposición, conclusión)\")\n",
    "            \n",
    "            prereq, assumption, conclusion = default_rule\n",
    "            if not isinstance(prereq, str) or not isinstance(assumption, str) or not isinstance(conclusion, str):\n",
    "                raise TypeError(\"Todos los elementos de la regla deben ser cadenas de texto\")\n",
    "            \n",
    "            if prereq in self.hechos and assumption not in self.excepciones:\n",
    "                return conclusion\n",
    "            return \"No se puede inferir\"\n",
    "        except Exception as e:\n",
    "            return f\"Error en inferencia: {str(e)}\"\n",
    "\n",
    "# Inicializamos el sistema\n",
    "logic = DefaultLogic()\n",
    "\n",
    "# Hechos conocidos sobre el usuario\n",
    "logic.add_fact(\"usuario_ingreso_alto\")\n",
    "logic.add_fact(\"usuario_ahorro_constante\")\n",
    "logic.add_fact(\"usuario_historial_crediticio_bueno\")\n",
    "logic.add_fact(\"usuario_gastos_moderados\")\n",
    "\n",
    "\n",
    "#Se agrega unas excepciones\n",
    "logic.add_exception(\"usuario_tiene_seguro_vida\")\n",
    "logic.add_fact(\"usuario_tiene_fondo_emergencia\")\n",
    "\n",
    "# Reglas de inferencia, aqui que se ponga lo que quiera el usuario\n",
    "reglas_financieras = [\n",
    "    (\"usuario_ingreso_alto\", \"usuario_gasta_excesivo\", \"recomendacion_inversion_riesgo_medio\"),\n",
    "    (\"usuario_ahorro_constante\", \"usuario_no_tiene_plan_retiro\", \"recomendacion_plan_retiro\"),\n",
    "    (\"usuario_historial_crediticio_bueno\", \"usuario_deudas_altas\", \"recomendacion_tarjeta_credito_premium\"),\n",
    "    (\"usuario_gastos_moderados\", \"usuario_no_invierte\", \"recomendacion_fondos_inversion\"),\n",
    "    (\"usuario_tiene_fondo_emergencia\", \"usuario_no_tiene_seguro\", \"recomendacion_seguro_vida\"),\n",
    "    (\"usuario_tiene_seguro_vida\", \"usuario_no_tiene_testamento\", \"recomendacion_hacer_testamento\"),\n",
    "    \"regla_mal_formada\", \n",
    "    (\"usuario_ingreso_alto\", 123, \"recomendacion_inversion_riesgo_medio\")  \n",
    "]\n",
    "\n",
    "# Aplicamos las reglas y mostramos recomendaciones\n",
    "for regla in reglas_financieras:\n",
    "    resultado = logic.infer(\"usuario\", regla)\n",
    "    print(f\"Resultado: {resultado}\")"
   ],
   "id": "17952c1e14c4fcc7",
   "outputs": [
    {
     "name": "stdout",
     "output_type": "stream",
     "text": [
      "Resultado: recomendacion_inversion_riesgo_medio\n",
      "Resultado: recomendacion_plan_retiro\n",
      "Resultado: recomendacion_tarjeta_credito_premium\n",
      "Resultado: recomendacion_fondos_inversion\n",
      "Resultado: recomendacion_seguro_vida\n",
      "Resultado: recomendacion_hacer_testamento\n",
      "Resultado: Error en inferencia: La regla debe ser una tupla con tres elementos: (prerrequisito, suposición, conclusión)\n",
      "Resultado: Error en inferencia: Todos los elementos de la regla deben ser cadenas de texto\n"
     ]
    }
   ],
   "execution_count": 3
  },
  {
   "metadata": {},
   "cell_type": "markdown",
   "source": "Cada línea impresa en consola indica una recomendación financiera basada en los datos del usuario.",
   "id": "d5710b88fe1d4a4b"
  },
  {
   "metadata": {},
   "cell_type": "markdown",
   "source": "## Auto epistemic Logic",
   "id": "5a01f2e4b93567bb"
  },
  {
   "metadata": {},
   "cell_type": "markdown",
   "source": "El sistema de inferencia autoepistémica toma hechos conocidos sobre un usuario y, con base en ellos, genera recomendaciones financieras. Dependiendo de la información disponible, los resultados pueden ser de tres tipos: Recomendación generada correctamente, no se puede inferir (cuando el sistema encuentra evidencia contraria a la inferencia) y el error en inferencia por ingresar mal los datos",
   "id": "70d0a357f1b90059"
  },
  {
   "metadata": {
    "ExecuteTime": {
     "end_time": "2025-02-26T03:14:23.275622Z",
     "start_time": "2025-02-26T03:14:23.180052Z"
    }
   },
   "cell_type": "code",
   "source": [
    "class AutoepistemicReasoning:\n",
    "    def __init__(self):\n",
    "        self.knowledge = set()  # Conjunto de hechos conocidos\n",
    "\n",
    "    def add_knowledge(self, fact):\n",
    "        \"\"\" Agrega un hecho explícito al conocimiento \"\"\"\n",
    "        if not isinstance(fact, str):\n",
    "            raise TypeError(\"El hecho debe ser una cadena de texto\")\n",
    "        self.knowledge.add(fact)\n",
    "\n",
    "    def knows(self, fact):\n",
    "        \"\"\" Retorna True si el agente SABE que el hecho es verdadero \"\"\"\n",
    "        if not isinstance(fact, str):\n",
    "            raise TypeError(\"El hecho debe ser una cadena de texto\")\n",
    "        return fact in self.knowledge\n",
    "\n",
    "    def does_not_know(self, fact):\n",
    "        \"\"\" Retorna True si el agente NO SABE que el hecho es verdadero \"\"\"\n",
    "        if not isinstance(fact, str):\n",
    "            raise TypeError(\"El hecho debe ser una cadena de texto\")\n",
    "        return fact not in self.knowledge\n",
    "\n",
    "    def infer(self, fact, assumption):\n",
    "        \"\"\"\n",
    "        Inferencia autoepistémica:\n",
    "        Si NO sabemos que una negación es cierta, asumimos que el hecho es verdadero.\n",
    "        \"\"\"\n",
    "        try:\n",
    "            if not isinstance(fact, str) or not isinstance(assumption, str):\n",
    "                raise TypeError(\"El hecho y la suposición deben ser cadenas de texto\")\n",
    "\n",
    "            if self.does_not_know(f\"not_{fact}\"):\n",
    "                return assumption\n",
    "            return \"No se puede inferir\"\n",
    "        except Exception as e:\n",
    "            return f\"Error en inferencia: {str(e)}\"\n",
    "\n",
    "# Inicializamos el sistema\n",
    "agent = AutoepistemicReasoning()\n",
    "\n",
    "try:\n",
    "    # Hechos conocidos sobre el usuario\n",
    "    agent.add_knowledge(\"usuario_ingreso_alto\")\n",
    "    agent.add_knowledge(\"usuario_ahorro_constante\")\n",
    "    agent.add_knowledge(\"usuario_historial_crediticio_bueno\")\n",
    "    agent.add_knowledge(\"usuario_gastos_moderados\")\n",
    "    agent.add_knowledge(\"usuario_tiene_fondo_emergencia\")\n",
    "    agent.add_knowledge(\"usuario_tiene_seguro_vida\")\n",
    "    \n",
    "    # Reglas de inferencia autoepistémica, aqui se pone lo qe se quiera probar\n",
    "    reglas_financieras = [\n",
    "        (\"usuario_ingreso_alto\", \"recomendacion_inversion_riesgo_medio\"),\n",
    "        (\"usuario_ahorro_constante\", \"recomendacion_plan_retiro\"),\n",
    "        (\"usuario_historial_crediticio_bueno\", \"recomendacion_tarjeta_credito_premium\"),\n",
    "        (\"usuario_gastos_moderados\", \"recomendacion_fondos_inversion\"),\n",
    "        (\"usuario_tiene_fondo_emergencia\", \"recomendacion_seguro_vida\"),\n",
    "        (\"usuario_tiene_seguro_vida\", \"recomendacion_hacer_testamento\"),\n",
    "        (\"usuario_no_tiene_inversiones\", \"recomendacion_diversificar_inversiones\"),\n",
    "        (123, \"recomendacion_erronea\") \n",
    "    ]\n",
    "\n",
    "    # Aplicamos las reglas y mostramos recomendaciones\n",
    "    for fact, assumption in reglas_financieras:\n",
    "        resultado = agent.infer(fact, assumption)\n",
    "        print(f\"Resultado: {resultado}\")\n",
    "except Exception as e:\n",
    "    print(f\"Error general en el sistema: {str(e)}\")\n"
   ],
   "id": "e589ade4486b2a53",
   "outputs": [
    {
     "name": "stdout",
     "output_type": "stream",
     "text": [
      "Resultado: recomendacion_inversion_riesgo_medio\n",
      "Resultado: recomendacion_plan_retiro\n",
      "Resultado: recomendacion_tarjeta_credito_premium\n",
      "Resultado: recomendacion_fondos_inversion\n",
      "Resultado: recomendacion_seguro_vida\n",
      "Resultado: recomendacion_hacer_testamento\n",
      "Resultado: recomendacion_diversificar_inversiones\n",
      "Resultado: Error en inferencia: El hecho y la suposición deben ser cadenas de texto\n"
     ]
    }
   ],
   "execution_count": 4
  },
  {
   "metadata": {},
   "cell_type": "markdown",
   "source": [
    "Si el sistema no encuentra evidencia en contra del hecho, asumirá que la recomendación es válida.\n",
    "\n"
   ],
   "id": "124b57d23c956b09"
  }
 ],
 "metadata": {
  "kernelspec": {
   "display_name": "Python 3",
   "language": "python",
   "name": "python3"
  },
  "language_info": {
   "codemirror_mode": {
    "name": "ipython",
    "version": 2
   },
   "file_extension": ".py",
   "mimetype": "text/x-python",
   "name": "python",
   "nbconvert_exporter": "python",
   "pygments_lexer": "ipython2",
   "version": "2.7.6"
  }
 },
 "nbformat": 4,
 "nbformat_minor": 5
}
