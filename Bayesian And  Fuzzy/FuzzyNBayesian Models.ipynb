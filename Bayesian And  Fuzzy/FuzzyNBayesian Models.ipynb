{
 "cells": [
  {
   "metadata": {},
   "cell_type": "markdown",
   "source": "# Exercise 1: Quality Control in Manufacturing using Fuzzy Systems and Expert Rules",
   "id": "b1851a8578f83441"
  },
  {
   "metadata": {},
   "cell_type": "markdown",
   "source": "### Librerias a utilizar",
   "id": "23a94d8c54ddd49c"
  },
  {
   "metadata": {},
   "cell_type": "code",
   "source": [
    "import numpy as np\n",
    "import skfuzzy as fuzz\n",
    "import skfuzzy.control as ctrl\n",
    "import matplotlib.pyplot as plt"
   ],
   "id": "cec7bb108c82cf6d",
   "outputs": [],
   "execution_count": null
  },
  {
   "metadata": {},
   "cell_type": "markdown",
   "source": [
    "### Definir las variables de entrada y salida\n",
    "\n",
    "'dimensions' representa el tamaño del producto (Small, Medium, Large)\n",
    "\n",
    "'weight' representa el peso del producto (Light, Medium, Heavy)\n",
    "\n",
    "'material_type' indica si el material es de grado normal o alto\n",
    "\n",
    "'surface_finish' indica si el acabado es rugoso o liso\n",
    "\n",
    "'quality' es la salida que representa la calidad del producto"
   ],
   "id": "2f2b7c55e7831066"
  },
  {
   "metadata": {},
   "cell_type": "code",
   "source": [
    "dimensions = ctrl.Antecedent(np.arange(0, 101, 1), 'dimensions')\n",
    "weight = ctrl.Antecedent(np.arange(0, 51, 1), 'weight')\n",
    "material_type = ctrl.Antecedent(np.arange(0, 2, 1), 'material_type')  # 0: Normal, 1: High-Grade\n",
    "surface_finish = ctrl.Antecedent(np.arange(0, 2, 1), 'surface_finish')  # 0: Rough, 1: Smooth\n",
    "quality = ctrl.Consequent(np.arange(0, 101, 1), 'quality')"
   ],
   "id": "984f3e49f62c0e12",
   "outputs": [],
   "execution_count": null
  },
  {
   "metadata": {},
   "cell_type": "markdown",
   "source": "### Definir funciones de membresía para cada variable de entrada y salida",
   "id": "2de147dcc8f9c397"
  },
  {
   "metadata": {},
   "cell_type": "code",
   "source": [
    "dimensions['Small'] = fuzz.trimf(dimensions.universe, [0, 0, 50])\n",
    "dimensions['Medium'] = fuzz.trimf(dimensions.universe, [30, 50, 70])\n",
    "dimensions['Large'] = fuzz.trimf(dimensions.universe, [50, 100, 100])\n",
    "\n",
    "weight['Light'] = fuzz.trimf(weight.universe, [0, 0, 25])\n",
    "weight['Medium'] = fuzz.trimf(weight.universe, [10, 25, 40])\n",
    "weight['Heavy'] = fuzz.trimf(weight.universe, [25, 50, 50])\n",
    "\n",
    "material_type['Normal'] = fuzz.trimf(material_type.universe, [0, 0, 1])\n",
    "material_type['High-Grade'] = fuzz.trimf(material_type.universe, [0, 1, 1])\n",
    "\n",
    "surface_finish['Rough'] = fuzz.trimf(surface_finish.universe, [0, 0, 1])\n",
    "surface_finish['Smooth'] = fuzz.trimf(surface_finish.universe, [0, 1, 1])\n",
    "\n",
    "quality['Low'] = fuzz.trimf(quality.universe, [0, 0, 50])\n",
    "quality['Medium'] = fuzz.trimf(quality.universe, [25, 50, 75])\n",
    "quality['High'] = fuzz.trimf(quality.universe, [50, 100, 100])"
   ],
   "id": "4a6a716919ce5d0b",
   "outputs": [],
   "execution_count": null
  },
  {
   "metadata": {},
   "cell_type": "markdown",
   "source": "### Definir reglas difusas basadas en las condiciones especificadas",
   "id": "ad566d57d55dfc15"
  },
  {
   "metadata": {},
   "cell_type": "code",
   "source": [
    "rule1 = ctrl.Rule(dimensions['Small'] & weight['Light'], quality['Low'])\n",
    "rule2 = ctrl.Rule(dimensions['Medium'] & weight['Medium'], quality['Medium'])\n",
    "rule3 = ctrl.Rule(dimensions['Large'] & weight['Heavy'], quality['High'])\n",
    "rule4 = ctrl.Rule(material_type['High-Grade'] & surface_finish['Smooth'], quality['High'])"
   ],
   "id": "5c115968ae881913",
   "outputs": [],
   "execution_count": null
  },
  {
   "metadata": {},
   "cell_type": "markdown",
   "source": "### Crear el sistema de control difuso para la calidad del producto",
   "id": "efc52c1160640769"
  },
  {
   "metadata": {},
   "cell_type": "code",
   "source": [
    "quality_ctrl = ctrl.ControlSystem([rule1, rule2, rule3, rule4])\n",
    "quality_sim = ctrl.ControlSystemSimulation(quality_ctrl)"
   ],
   "id": "ae1b37abf68acf08",
   "outputs": [],
   "execution_count": null
  },
  {
   "metadata": {},
   "cell_type": "markdown",
   "source": "### Simulación del sistema con valores de entrada",
   "id": "9000ea10e337f107"
  },
  {
   "metadata": {},
   "cell_type": "code",
   "source": [
    "dimension_input = 60  # Ejemplo de dimensión del producto\n",
    "weight_input = 30  # Ejemplo de peso del producto\n",
    "material_type_input = 1  # High-Grade\n",
    "surface_finish_input = 1  # Smooth"
   ],
   "id": "f98aab0f2a1cf3",
   "outputs": [],
   "execution_count": null
  },
  {
   "metadata": {},
   "cell_type": "markdown",
   "source": "### Asignar valores de entrada al sistema",
   "id": "9a67644667690ef4"
  },
  {
   "metadata": {},
   "cell_type": "code",
   "source": [
    "quality_sim.input['dimensions'] = dimension_input\n",
    "quality_sim.input['weight'] = weight_input\n",
    "quality_sim.input['material_type'] = material_type_input\n",
    "quality_sim.input['surface_finish'] = surface_finish_input"
   ],
   "id": "3a6df3b66d535b49",
   "outputs": [],
   "execution_count": null
  },
  {
   "metadata": {},
   "cell_type": "markdown",
   "source": "### Ejecutar el sistema difuso",
   "id": "20f9ac9cce3820fb"
  },
  {
   "metadata": {},
   "cell_type": "code",
   "source": "quality_sim.compute()",
   "id": "545fdc4cc7d43c93",
   "outputs": [],
   "execution_count": null
  },
  {
   "metadata": {},
   "cell_type": "markdown",
   "source": "### Determinar la categoría de calidad con base en el puntaje obtenido",
   "id": "4b879c32e6ee8621"
  },
  {
   "metadata": {},
   "cell_type": "code",
   "source": [
    "quality_score = quality_sim.output['quality']\n",
    "if quality_score <= 33:\n",
    "    quality_category = \"Low\"\n",
    "elif quality_score <= 66:\n",
    "    quality_category = \"Medium\"\n",
    "else:\n",
    "    quality_category = \"High\"\n",
    "\n",
    "# Mostrar la categoría de calidad\n",
    "print(quality_category)"
   ],
   "id": "93c5d6736d92face",
   "outputs": [],
   "execution_count": null
  },
  {
   "metadata": {},
   "cell_type": "markdown",
   "source": "### Visualización de funciones de membresía",
   "id": "a5b34ef69a420dc8"
  },
  {
   "metadata": {},
   "cell_type": "code",
   "source": [
    "# Visualización de funciones de membresía\n",
    "fig, axes = plt.subplots(3, 1, figsize=(8, 12))\n",
    "\n",
    "axes[0].plot(dimensions.universe, dimensions['Small'].mf, label='Small')\n",
    "axes[0].plot(dimensions.universe, dimensions['Medium'].mf, label='Medium')\n",
    "axes[0].plot(dimensions.universe, dimensions['Large'].mf, label='Large')\n",
    "axes[0].set_title('Dimensions')\n",
    "axes[0].legend()\n",
    "\n",
    "axes[1].plot(weight.universe, weight['Light'].mf, label='Light')\n",
    "axes[1].plot(weight.universe, weight['Medium'].mf, label='Medium')\n",
    "axes[1].plot(weight.universe, weight['Heavy'].mf, label='Heavy')\n",
    "axes[1].set_title('Weight')\n",
    "axes[1].legend()\n",
    "\n",
    "axes[2].plot(quality.universe, quality['Low'].mf, label='Low')\n",
    "axes[2].plot(quality.universe, quality['Medium'].mf, label='Medium')\n",
    "axes[2].plot(quality.universe, quality['High'].mf, label='High')\n",
    "axes[2].set_title('Quality')\n",
    "axes[2].legend()\n",
    "\n",
    "plt.tight_layout()\n",
    "plt.show()\n"
   ],
   "id": "f694290e10b4fbf8",
   "outputs": [],
   "execution_count": null
  },
  {
   "metadata": {},
   "cell_type": "markdown",
   "source": "# Exercise 2: Driver Assistance System using Bayesian Networks and Expert Rules",
   "id": "f8f6f0911b4a2bf1"
  },
  {
   "metadata": {},
   "cell_type": "markdown",
   "source": "This report presents a driver assistance system that uses Bayesian networks to predict the risk of collision based on the vehicle's speed, distance to the vehicle ahead, and road condition. Expert rules are integrated to provide specific recommendations to the driver.",
   "id": "748c8345195b1cc1"
  },
  {
   "metadata": {},
   "cell_type": "markdown",
   "source": [
    "### Structure of the Bayesian Network\n",
    "\n",
    "The Bayesian network consists of the following nodes:\n",
    "\n",
    "Speed: Vehicle speed (High, Medium, Low).\n",
    "\n",
    "Distance: Distance to the vehicle ahead (Short, Medium, Long).\n",
    "\n",
    "RoadCondition: Road condition (Wet, Dry).\n",
    "\n",
    "CollisionRisk: Risk of collision (High, Medium, Low).\n",
    "\n",
    "The structure of the network is as follows:\n",
    "\n",
    "Speed, Distance, and RoadCondition are parent nodes of CollisionRisk."
   ],
   "id": "2c079a809aba8d1a"
  },
  {
   "metadata": {},
   "cell_type": "markdown",
   "source": [
    "### Definition of Conditional Probability Tables (CPTs)\n",
    "\n",
    "The conditional probabilities for each node are defined below.\n",
    "\n",
    "P(Speed)------------------\n",
    "\n",
    "Speed\tProbability\n",
    "\n",
    "High\t0.3\n",
    "\n",
    "Medium\t0.5\n",
    "\n",
    "Low\t0.2\n",
    "\n",
    "P(Distance)-----------------------\n",
    "\n",
    "\n",
    "Distance\tProbability\n",
    "\n",
    "Short\t0.4\n",
    "\n",
    "Medium\t0.4\n",
    "\n",
    "Long\t0.2\n",
    "\n",
    "P(RoadCondition)-------------------\n",
    "\n",
    "Road Condition\tProbability\n",
    "\n",
    "Wet\t0.3\n",
    "\n",
    "Dry\t0.7\n",
    "\n",
    "P(CollisionRisk | Speed, Distance, RoadCondition) ---------------------\n",
    "\n",
    "This table defines the probability of collision risk given the speed, distance, and road condition."
   ],
   "id": "79fdbc6804903143"
  },
  {
   "metadata": {},
   "cell_type": "markdown",
   "source": "### Import required libraries",
   "id": "9617a5ca5a78b970"
  },
  {
   "metadata": {},
   "cell_type": "code",
   "source": [
    "from pgmpy.models import BayesianNetwork\n",
    "from pgmpy.factors.discrete import TabularCPD\n",
    "from pgmpy.inference import VariableElimination"
   ],
   "id": "7aeb56d08ec4656c",
   "outputs": [],
   "execution_count": null
  },
  {
   "metadata": {},
   "cell_type": "markdown",
   "source": "### Define the structure of the Bayesian network",
   "id": "7d6344681b1bfcac"
  },
  {
   "metadata": {},
   "cell_type": "code",
   "source": [
    "model = BayesianNetwork([\n",
    "    ('Speed', 'CollisionRisk'),\n",
    "    ('Distance', 'CollisionRisk'),\n",
    "    ('RoadCondition', 'CollisionRisk')\n",
    "])"
   ],
   "id": "e862a0720f47fa",
   "outputs": [],
   "execution_count": null
  },
  {
   "metadata": {},
   "cell_type": "markdown",
   "source": "### Define Conditional Probability Tables (CPTs)",
   "id": "84171b3d1e296511"
  },
  {
   "metadata": {},
   "cell_type": "code",
   "source": [
    "cpd_speed = TabularCPD(variable='Speed', variable_card=3, values=[[0.3], [0.5], [0.2]],\n",
    "                       state_names={'Speed': ['High', 'Medium', 'Low']})\n",
    "\n",
    "cpd_distance = TabularCPD(variable='Distance', variable_card=3, values=[[0.4], [0.4], [0.2]],\n",
    "                          state_names={'Distance': ['Short', 'Medium', 'Long']})\n",
    "\n",
    "cpd_road = TabularCPD(variable='RoadCondition', variable_card=2, values=[[0.3], [0.7]],\n",
    "                      state_names={'RoadCondition': ['Wet', 'Dry']})\n",
    "\n",
    "cpd_collision = TabularCPD(variable='CollisionRisk', variable_card=3,\n",
    "                           values=[\n",
    "                               [0.9, 0.7, 0.6, 0.4, 0.3, 0.1, 0.7, 0.5, 0.4, 0.2, 0.1, 0.05, 0.5, 0.3, 0.2, 0.1, 0.05, 0.01],\n",
    "                               [0.1, 0.2, 0.3, 0.4, 0.5, 0.6, 0.2, 0.3, 0.4, 0.5, 0.6, 0.7, 0.3, 0.4, 0.5, 0.6, 0.7, 0.8],\n",
    "                               [0.0, 0.1, 0.1, 0.2, 0.2, 0.3, 0.1, 0.2, 0.2, 0.3, 0.3, 0.25, 0.2, 0.3, 0.3, 0.3, 0.25, 0.19]\n",
    "                           ],\n",
    "                           evidence=['Speed', 'Distance', 'RoadCondition'],\n",
    "                           evidence_card=[3, 3, 2],\n",
    "                           state_names={'CollisionRisk': ['High', 'Medium', 'Low'],\n",
    "                                        'Speed': ['High', 'Medium', 'Low'],\n",
    "                                        'Distance': ['Short', 'Medium', 'Long'],\n",
    "                                        'RoadCondition': ['Wet', 'Dry']})"
   ],
   "id": "c961d1e0cc045db9",
   "outputs": [],
   "execution_count": null
  },
  {
   "metadata": {},
   "cell_type": "markdown",
   "source": "### Add CPTs to the model",
   "id": "432862a796a73928"
  },
  {
   "metadata": {},
   "cell_type": "code",
   "source": [
    "model.add_cpds(cpd_speed, cpd_distance, cpd_road, cpd_collision)\n",
    "\n",
    "# Validate the model\n",
    "assert model.check_model()\n",
    "\n",
    "# Perform inference using Variable Elimination\n",
    "inference = VariableElimination(model)"
   ],
   "id": "cbf8010793be70cf",
   "outputs": [],
   "execution_count": null
  },
  {
   "metadata": {},
   "cell_type": "markdown",
   "source": "### Function to get recommendations based on collision risk",
   "id": "90ec4fe7d6dbe196"
  },
  {
   "metadata": {},
   "cell_type": "code",
   "source": [
    "def get_recommendation(collision_risk):\n",
    "    if collision_risk == 'High':\n",
    "        return \"High collision risk! Immediately reduce speed, increase distance from the vehicle ahead, and drive defensively.\"\n",
    "    elif collision_risk == 'Medium':\n",
    "        return \"Moderate collision risk. Reduce speed and increase distance from the vehicle ahead.\"\n",
    "    elif collision_risk == 'Low':\n",
    "        return \"Low collision risk. Maintain safe driving practices and stay alert to traffic conditions.\"\n",
    "    else:\n",
    "        return \"Collision risk could not be determined.\""
   ],
   "id": "592d97ef417dc475",
   "outputs": [],
   "execution_count": null
  },
  {
   "metadata": {},
   "cell_type": "markdown",
   "source": "### Function to simulate the driver assistance system",
   "id": "9a89e15fab6b07da"
  },
  {
   "metadata": {},
   "cell_type": "code",
   "source": [
    "def driver_assistance_system(speed, distance, road_condition):\n",
    "    # Calculate collision risk\n",
    "    result = inference.query(variables=['CollisionRisk'], evidence={'Speed': speed, 'Distance': distance, 'RoadCondition': road_condition})\n",
    "    collision_risk = result.values.argmax()  # Get the state with the highest probability\n",
    "    collision_risk_state = model.get_cpds('CollisionRisk').state_names['CollisionRisk'][collision_risk]\n",
    "    \n",
    "    # Get recommendation\n",
    "    recommendation = get_recommendation(collision_risk_state)\n",
    "    \n",
    "    # Display results\n",
    "    print(f\"Calculated Collision Risk: {collision_risk_state}\")\n",
    "    print(f\"Recommendation: {recommendation}\")"
   ],
   "id": "6275f73d120aa0bf",
   "outputs": [],
   "execution_count": null
  },
  {
   "metadata": {},
   "cell_type": "markdown",
   "source": "### Simulate different scenarios",
   "id": "4cc215543a28b606"
  },
  {
   "metadata": {},
   "cell_type": "code",
   "source": [
    "print(\"Scenario 1: High speed, short distance, wet road\")\n",
    "driver_assistance_system(speed='High', distance='Short', road_condition='Wet')"
   ],
   "id": "fda0793421403b2f",
   "outputs": [],
   "execution_count": null
  },
  {
   "metadata": {},
   "cell_type": "code",
   "source": [
    "print(\"\\nScenario 2: Medium speed, medium distance, dry road\")\n",
    "driver_assistance_system(speed='Medium', distance='Medium', road_condition='Dry')"
   ],
   "id": "7cfb03e890fd197a",
   "outputs": [],
   "execution_count": null
  },
  {
   "metadata": {},
   "cell_type": "code",
   "outputs": [],
   "execution_count": null,
   "source": [
    "print(\"\\nScenario 3: Low speed, long distance, wet road\")\n",
    "driver_assistance_system(speed='Low', distance='Long', road_condition='Wet')"
   ],
   "id": "7cb83dc4ce2bc25c"
  },
  {
   "metadata": {},
   "cell_type": "markdown",
   "source": [
    "### Discussion\n",
    "\n",
    "The combination of Bayesian networks and expert rules provides a robust framework for real-time decision-making in driver assistance systems:\n",
    "\n",
    "Bayesian Networks: Handle uncertainty and probabilistic reasoning based on observed data.\n",
    "\n",
    "Expert Rules: Incorporate domain knowledge and additional factors (e.g., driver behavior, vehicle type) to refine predictions.\n",
    "\n",
    "This system enhances driver safety by providing real-time risk assessments and enabling proactive measures to prevent collisions."
   ],
   "id": "d5f945e014416d4f"
  },
  {
   "metadata": {},
   "cell_type": "markdown",
   "source": [
    "### Conclusion\n",
    "This driver assistance system demonstrates the effectiveness of Bayesian networks in predicting collision risks and providing actionable recommendations. It can be extended to include more variables and rules for further improvements."
   ],
   "id": "4ea045ae0c398b72"
  }
 ],
 "metadata": {
  "kernelspec": {
   "display_name": "Python 3",
   "language": "python",
   "name": "python3"
  },
  "language_info": {
   "codemirror_mode": {
    "name": "ipython",
    "version": 2
   },
   "file_extension": ".py",
   "mimetype": "text/x-python",
   "name": "python",
   "nbconvert_exporter": "python",
   "pygments_lexer": "ipython2",
   "version": "2.7.6"
  }
 },
 "nbformat": 4,
 "nbformat_minor": 5
}
