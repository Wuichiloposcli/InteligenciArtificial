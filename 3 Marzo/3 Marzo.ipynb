{
 "cells": [
  {
   "metadata": {},
   "cell_type": "markdown",
   "source": "# Ejercicio de día de clase",
   "id": "fe5539c362b55a14"
  },
  {
   "metadata": {},
   "cell_type": "markdown",
   "source": [
    "Sistemas recurrentes. Se pondrá el modelo de una población de conejos usando la siguiente formula:\n",
    "\n",
    "$$P_t=P_{t-1}+r*P_{t-1}*(1-\\frac{P_{t-1}}{K})$$\n",
    "\n",
    "Donde:\n",
    "\n",
    "$P_t:$ Población en el año t\n",
    "\n",
    "$P_{t-1}:$ Población en el año t-1\n",
    "\n",
    "$r:$ Tasa de crecimiento\n",
    "\n",
    "$K:$ Capacidad de carga de la población"
   ],
   "id": "e67cc88d39a69f13"
  },
  {
   "metadata": {
    "ExecuteTime": {
     "end_time": "2025-03-03T16:16:02.445632Z",
     "start_time": "2025-03-03T16:16:02.438352Z"
    }
   },
   "cell_type": "code",
   "source": [
    "def Conejos(Pt_minus1, rate, K, t):\n",
    "    if t == 0:\n",
    "        print(f\"Año {t}: {Pt_minus1:.2f}\") \n",
    "        return Pt_minus1\n",
    "\n",
    "    Pt_1 = Conejos(Pt_minus1, rate, K, t - 1)\n",
    "\n",
    "    Pt = Pt_1 + rate * Pt_1 * (1 - Pt_1 / K)\n",
    "\n",
    "    print(f\"Año {t}: {Pt:.2f}\")\n",
    "\n",
    "    return Pt "
   ],
   "id": "cb1504e9d67d0c85",
   "outputs": [],
   "execution_count": 8
  },
  {
   "metadata": {
    "ExecuteTime": {
     "end_time": "2025-03-03T16:15:19.875016Z",
     "start_time": "2025-03-03T16:15:19.858151Z"
    }
   },
   "cell_type": "code",
   "source": [
    "# Parámetros\n",
    "P0 = 10  # Población inicial\n",
    "rate = 0.1  # Tasa de crecimiento\n",
    "K = 100  # Capacidad de carga\n",
    "t = 20  # Número de años a modelar\n",
    "\n",
    "# Llamar a la función recursiva\n",
    "Conejos(P0, rate, K, t)"
   ],
   "id": "be1feed738b0f79d",
   "outputs": [
    {
     "name": "stdout",
     "output_type": "stream",
     "text": [
      "Año 0: 10.00\n",
      "Año 1: 10.90\n",
      "Año 2: 11.87\n",
      "Año 3: 12.92\n",
      "Año 4: 14.04\n",
      "Año 5: 15.25\n",
      "Año 6: 16.54\n",
      "Año 7: 17.92\n",
      "Año 8: 19.39\n",
      "Año 9: 20.96\n",
      "Año 10: 22.61\n",
      "Año 11: 24.36\n",
      "Año 12: 26.21\n",
      "Año 13: 28.14\n",
      "Año 14: 30.16\n",
      "Año 15: 32.27\n",
      "Año 16: 34.45\n",
      "Año 17: 36.71\n",
      "Año 18: 39.04\n",
      "Año 19: 41.42\n",
      "Año 20: 43.84\n"
     ]
    },
    {
     "data": {
      "text/plain": [
       "43.84141497182678"
      ]
     },
     "execution_count": 7,
     "metadata": {},
     "output_type": "execute_result"
    }
   ],
   "execution_count": 7
  }
 ],
 "metadata": {
  "kernelspec": {
   "display_name": "Python 3",
   "language": "python",
   "name": "python3"
  },
  "language_info": {
   "codemirror_mode": {
    "name": "ipython",
    "version": 2
   },
   "file_extension": ".py",
   "mimetype": "text/x-python",
   "name": "python",
   "nbconvert_exporter": "python",
   "pygments_lexer": "ipython2",
   "version": "2.7.6"
  }
 },
 "nbformat": 4,
 "nbformat_minor": 5
}
