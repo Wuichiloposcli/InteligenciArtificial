{
 "cells": [
  {
   "metadata": {},
   "cell_type": "markdown",
   "source": [
    "# Aplicación de Aprendizaje No Supervisado en Modelos Supervisados\n",
    "\n",
    "## Descripción\n",
    "Este notebook implementa un enfoque de aprendizaje no supervisado mediante el algoritmo **K-Means** para mejorar el desempeño de un modelo de clasificación supervisado.\n",
    "\n",
    "## Algoritmo Utilizado\n",
    "- **K-Means Clustering**: Se emplea para agrupar datos similares antes de aplicar el modelo supervisado.\n",
    "- **Regresión Logística**: Modelo supervisado que se entrena con y sin preprocesamiento para comparar su desempeño.\n",
    "\n",
    "## Impacto del Preprocesamiento\n",
    "El impacto de la transformación se mide comparando métricas antes y después de aplicar K-Means. Se incluyen:\n",
    "- **Accuracy Score**\n",
    "- **Matriz de Confusión**\n",
    "- **Curva ROC y AUC**\n",
    "- **Reporte de Clasificación**"
   ],
   "id": "72715ba6596a813f"
  },
  {
   "metadata": {},
   "cell_type": "markdown",
   "source": [
    "# Librerias\n",
    "A continuación se muestran las librerias usadas en este código."
   ],
   "id": "44209a1065d67ee9"
  },
  {
   "metadata": {
    "ExecuteTime": {
     "end_time": "2025-03-26T15:57:24.865982Z",
     "start_time": "2025-03-26T15:57:24.857667Z"
    }
   },
   "cell_type": "code",
   "source": [
    "import pandas as pd\n",
    "import kagglehub\n",
    "import matplotlib.pyplot as plt\n",
    "from sklearn.cluster import KMeans\n",
    "from sklearn.preprocessing import StandardScaler\n",
    "from sklearn.model_selection import train_test_split\n",
    "from sklearn.linear_model import LogisticRegression\n",
    "from sklearn.preprocessing import StandardScaler\n",
    "from sklearn.metrics import (\n",
    "    accuracy_score, classification_report,\n",
    "    confusion_matrix, roc_curve, roc_auc_score,  precision_recall_curve\n",
    ")\n",
    "import seaborn as sns\n",
    "import numpy as np"
   ],
   "id": "2af20a0108fc22bb",
   "outputs": [],
   "execution_count": 35
  },
  {
   "metadata": {},
   "cell_type": "markdown",
   "source": [
    "# Descargar bases de datos\n",
    "Se descargarán las bases de datos de kaggle"
   ],
   "id": "3ee0dbaaff200b52"
  },
  {
   "cell_type": "code",
   "id": "initial_id",
   "metadata": {
    "collapsed": true,
    "ExecuteTime": {
     "end_time": "2025-03-26T16:01:31.048446Z",
     "start_time": "2025-03-26T16:01:31.041014Z"
    }
   },
   "source": [
    "# Download latest version\n",
    "#path = kagglehub.dataset_download(\"ak0212/average-daily-screen-time-for-children\")\n",
    "\n",
    "# Se mueve el archivo a la carpeta dentro de la carpeta Data dentro del proyecto.\n",
    "df = pd.read_csv('Data/screen_time.csv')"
   ],
   "outputs": [],
   "execution_count": 42
  },
  {
   "metadata": {},
   "cell_type": "markdown",
   "source": [
    "Ahora se quiere hacer un analisis exploratorio de los datos para comprender que información se esta manejando.\n",
    "\n",
    "Se conoce que la base de datos tiene las siguientes caracteristicas:\n",
    "This datas real-world trends in children's screen time usage. It includes data on educational, recreational, and total screen time for children aged 5 to 15 years, with breakdowns by gender (Male, Female, Other/Prefer not to say) and day type (Weekday, Weekend) (Obtenido de Kaggle)"
   ],
   "id": "c85f569fae00ba29"
  },
  {
   "metadata": {
    "ExecuteTime": {
     "end_time": "2025-03-26T15:41:07.584508Z",
     "start_time": "2025-03-26T15:41:07.575390Z"
    }
   },
   "cell_type": "code",
   "source": "df.columns",
   "id": "b7b666300447103e",
   "outputs": [
    {
     "data": {
      "text/plain": [
       "Index(['Age', 'Gender', 'Screen Time Type', 'Day Type',\n",
       "       'Average Screen Time (hours)', 'Sample Size'],\n",
       "      dtype='object')"
      ]
     },
     "execution_count": 13,
     "metadata": {},
     "output_type": "execute_result"
    }
   ],
   "execution_count": 13
  },
  {
   "metadata": {
    "ExecuteTime": {
     "end_time": "2025-03-26T15:41:10.921464Z",
     "start_time": "2025-03-26T15:41:10.902534Z"
    }
   },
   "cell_type": "code",
   "source": "df.head()",
   "id": "25ad986c098aae86",
   "outputs": [
    {
     "data": {
      "text/plain": [
       "   Age Gender Screen Time Type Day Type  Average Screen Time (hours)  \\\n",
       "0    5   Male      Educational  Weekday                         0.44   \n",
       "1    5   Male     Recreational  Weekday                         1.11   \n",
       "2    5   Male            Total  Weekday                         1.55   \n",
       "3    5   Male      Educational  Weekend                         0.50   \n",
       "4    5   Male     Recreational  Weekend                         1.44   \n",
       "\n",
       "   Sample Size  \n",
       "0          500  \n",
       "1          500  \n",
       "2          500  \n",
       "3          500  \n",
       "4          500  "
      ],
      "text/html": [
       "<div>\n",
       "<style scoped>\n",
       "    .dataframe tbody tr th:only-of-type {\n",
       "        vertical-align: middle;\n",
       "    }\n",
       "\n",
       "    .dataframe tbody tr th {\n",
       "        vertical-align: top;\n",
       "    }\n",
       "\n",
       "    .dataframe thead th {\n",
       "        text-align: right;\n",
       "    }\n",
       "</style>\n",
       "<table border=\"1\" class=\"dataframe\">\n",
       "  <thead>\n",
       "    <tr style=\"text-align: right;\">\n",
       "      <th></th>\n",
       "      <th>Age</th>\n",
       "      <th>Gender</th>\n",
       "      <th>Screen Time Type</th>\n",
       "      <th>Day Type</th>\n",
       "      <th>Average Screen Time (hours)</th>\n",
       "      <th>Sample Size</th>\n",
       "    </tr>\n",
       "  </thead>\n",
       "  <tbody>\n",
       "    <tr>\n",
       "      <th>0</th>\n",
       "      <td>5</td>\n",
       "      <td>Male</td>\n",
       "      <td>Educational</td>\n",
       "      <td>Weekday</td>\n",
       "      <td>0.44</td>\n",
       "      <td>500</td>\n",
       "    </tr>\n",
       "    <tr>\n",
       "      <th>1</th>\n",
       "      <td>5</td>\n",
       "      <td>Male</td>\n",
       "      <td>Recreational</td>\n",
       "      <td>Weekday</td>\n",
       "      <td>1.11</td>\n",
       "      <td>500</td>\n",
       "    </tr>\n",
       "    <tr>\n",
       "      <th>2</th>\n",
       "      <td>5</td>\n",
       "      <td>Male</td>\n",
       "      <td>Total</td>\n",
       "      <td>Weekday</td>\n",
       "      <td>1.55</td>\n",
       "      <td>500</td>\n",
       "    </tr>\n",
       "    <tr>\n",
       "      <th>3</th>\n",
       "      <td>5</td>\n",
       "      <td>Male</td>\n",
       "      <td>Educational</td>\n",
       "      <td>Weekend</td>\n",
       "      <td>0.50</td>\n",
       "      <td>500</td>\n",
       "    </tr>\n",
       "    <tr>\n",
       "      <th>4</th>\n",
       "      <td>5</td>\n",
       "      <td>Male</td>\n",
       "      <td>Recreational</td>\n",
       "      <td>Weekend</td>\n",
       "      <td>1.44</td>\n",
       "      <td>500</td>\n",
       "    </tr>\n",
       "  </tbody>\n",
       "</table>\n",
       "</div>"
      ]
     },
     "execution_count": 14,
     "metadata": {},
     "output_type": "execute_result"
    }
   ],
   "execution_count": 14
  },
  {
   "metadata": {},
   "cell_type": "markdown",
   "source": [
    "Se comparte información sobre las columnas que hay en la base de datos.\n",
    "\n",
    "Age: Representa la edad del niño y van desde los 5 hasta los 15 años.\n",
    "\n",
    "Gender: Solo hay 2 tipos, masculino (Male) y femenino (Female).\n",
    "\n",
    "Screen Time Type: Para que estaban usando el dispositivo.\n",
    "\n",
    "Day Type: Solo hay 2 valores, Weekday(entre semana) y Weekend(fin de semana).\n",
    "\n",
    "Average Screen Time: Nos dice cuanto tiempo en promedio estuvieron enfrente de una pantalla\n",
    "\n",
    "Sample Size: Cuantos niños se tomaron en cuenta para obtener dicha información.\n",
    "\n",
    "\n"
   ],
   "id": "136e895b4e248219"
  },
  {
   "metadata": {},
   "cell_type": "markdown",
   "source": [
    "### Agrupamiento de datos para clasificación\n",
    "\n",
    "Ahora se busca agrupar los datos para poder conocer cuando se podría considerar adicto a la pantalla un niño pequeño y se descartará la columna samples porque podría llegar a afectar los algoritmos de agrupamientos y las columnas que son categoricas como Gender, Screen Time Type se harán númericas. Así se hará que si es male entonces será 0, si es Female será 1, si Other/Prefer not to say será 2, si Screen Time Type es Educational entonces será 0, si Screen Time Type es Recreational será 1, si Day Type es Weekday será 0 y si Day Type es Weekend será 1."
   ],
   "id": "9639eda6cbdccf87"
  },
  {
   "metadata": {
    "ExecuteTime": {
     "end_time": "2025-03-26T15:41:13.479915Z",
     "start_time": "2025-03-26T15:41:13.464915Z"
    }
   },
   "cell_type": "code",
   "source": [
    "df.drop('Sample Size', axis=1, inplace=True)\n",
    "df = df[df['Screen Time Type'] != 'Total']\n",
    "\n",
    "df.replace({\n",
    "    'Gender': {'Male': 1, 'Female': 0, 'Other/Prefer not to say':2},\n",
    "    'Screen Time Type': {'Educational': 0, 'Recreational': 1},\n",
    "    'Day Type': {'Weekday': 0, 'Weekend': 1}\n",
    "}, inplace=True)"
   ],
   "id": "c564d65c381c7e56",
   "outputs": [
    {
     "name": "stderr",
     "output_type": "stream",
     "text": [
      "C:\\Users\\Wisp8\\AppData\\Local\\Temp\\ipykernel_13932\\760874139.py:4: FutureWarning: Downcasting behavior in `replace` is deprecated and will be removed in a future version. To retain the old behavior, explicitly call `result.infer_objects(copy=False)`. To opt-in to the future behavior, set `pd.set_option('future.no_silent_downcasting', True)`\n",
      "  df.replace({\n"
     ]
    }
   ],
   "execution_count": 15
  },
  {
   "metadata": {
    "ExecuteTime": {
     "end_time": "2025-03-26T15:41:16.526790Z",
     "start_time": "2025-03-26T15:41:15.586080Z"
    }
   },
   "cell_type": "code",
   "source": [
    "scaler = StandardScaler()\n",
    "df_scaled = scaler.fit_transform(df)\n",
    "\n",
    "kmeans = KMeans(n_clusters=2, n_init=10, random_state=42)\n",
    "df['Cluster'] = kmeans.fit_predict(df_scaled)\n",
    "\n",
    "plt.figure(figsize=(8, 6))\n",
    "plt.scatter(df['Age'], df['Average Screen Time (hours)'], c= df['Cluster'], cmap='coolwarm_r', alpha=0.6) \n",
    "plt.xlabel(\"Edad\")\n",
    "plt.ylabel(\"Tiempo promedio de pantalla (horas)\")\n",
    "plt.title(\"Clusters de Adicción a Pantallas (K-Means)\")\n",
    "plt.colorbar(label=\"Cluster (0 = Adicto, 1 = No Adicto)\")\n",
    "plt.show()\n"
   ],
   "id": "450be81a9c5b015d",
   "outputs": [
    {
     "data": {
      "text/plain": [
       "<Figure size 800x600 with 2 Axes>"
      ],
      "image/png": "[encoded data removed]"
     },
     "metadata": {},
     "output_type": "display_data"
    }
   ],
   "execution_count": 16
  },
  {
   "metadata": {},
   "cell_type": "markdown",
   "source": [
    "Descripción de la Gráfica\n",
    "La gráfica muestra los clusters de adicción a pantallas obtenidos mediante K-Means, donde se analiza la relación entre la edad y el tiempo promedio de pantalla (en horas).\n",
    "\n",
    "Se utilizaron dos grupos (k=2) para clasificar a los niños en adictos y no adictos a las pantallas.\n",
    "\n",
    "Rojo: Representa a los niños con mayor uso de pantallas (considerados \"adictos\").\n",
    "\n",
    "Azul: Representa a los niños con menor uso de pantallas (considerados \"no adictos\").\n",
    "\n",
    "\n",
    "Se observa que conforme aumenta la edad, también incrementa el tiempo promedio de pantalla. al igual que el grupo de niños más pequeños tiende a pasar menos tiempo en pantallas, mientras que los mayores tienen una mayor variabilidad en su tiempo de pantalla y a partir de los 10 años en adelante, los puntos rojos (adictos) son más frecuentes y se concentran en valores más altos de horas de pantalla.\n",
    "\n",
    "\n",
    "Se concluye que la edad influye en la adicción a pantallas, con los niños mayores siendo más propensos a pasar más tiempo en dispositivos electrónicos."
   ],
   "id": "1373768dc0b9671d"
  },
  {
   "metadata": {
    "ExecuteTime": {
     "end_time": "2025-03-26T15:41:30.935436Z",
     "start_time": "2025-03-26T15:41:30.924441Z"
    }
   },
   "cell_type": "code",
   "source": "df.groupby('Cluster')['Average Screen Time (hours)'].mean()",
   "id": "9bd0e2e0730fe23f",
   "outputs": [
    {
     "data": {
      "text/plain": [
       "Cluster\n",
       "0    3.262273\n",
       "1    1.226970\n",
       "Name: Average Screen Time (hours), dtype: float64"
      ]
     },
     "execution_count": 17,
     "metadata": {},
     "output_type": "execute_result"
    }
   ],
   "execution_count": 17
  },
  {
   "metadata": {},
   "cell_type": "markdown",
   "source": [
    "Se observa que si pasas en promedio 3.26 horas tienes una adiccion a la pantalla mientras que si tienes 1.22 horas se observa que no tienes dicha adicción.\n",
    "\n",
    "Ahora se hará una regresión lógistica para realizar un algoritmo de aprendizaje supervisado que nos ayuda a dedicir si una persona es adicta o no."
   ],
   "id": "b661ee9c87f26689"
  },
  {
   "metadata": {},
   "cell_type": "markdown",
   "source": [
    "### Modelo Supervisado\n",
    "Ahora con los datos una vez categorizados se hará uso de un modelo supervisado de inteligencia artificial para la toma de desiciones. Se usará una regresión lógica dado que los datos son faciles de entender y han sido categorizadas para usarse de esta forma."
   ],
   "id": "68fd4b7e3373bf04"
  },
  {
   "metadata": {
    "ExecuteTime": {
     "end_time": "2025-03-26T15:43:47.834554Z",
     "start_time": "2025-03-26T15:43:47.646158Z"
    }
   },
   "cell_type": "code",
   "source": [
    "temp = df[\"Cluster\"].value_counts()\n",
    "graph = pd.DataFrame({'Cluster': temp.index, 'values': temp.values})\n",
    "\n",
    "# Crear la gráfica de barras\n",
    "plt.figure(figsize=(8, 6))\n",
    "plt.bar(graph['Cluster'], graph['values'], color='red')\n",
    "\n",
    "# Agregar etiquetas de valores\n",
    "for i, v in enumerate(graph['values']):\n",
    "    plt.text(graph['Cluster'][i], v, str(v), ha='center', fontsize=12)\n",
    "\n",
    "# Configurar etiquetas y título\n",
    "plt.xlabel('Cluster')\n",
    "plt.ylabel('Numero de clasificaciones')\n",
    "plt.title('Adicción a pantalla de dispositivo electronico')\n",
    "plt.xticks(graph['Cluster'])  \n",
    "\n",
    "# Mostrar la gráfica\n",
    "plt.show()"
   ],
   "id": "93f03aaa5c053594",
   "outputs": [
    {
     "data": {
      "text/plain": [
       "<Figure size 800x600 with 1 Axes>"
      ],
      "image/png": "[encoded data removed]"
     },
     "metadata": {},
     "output_type": "display_data"
    }
   ],
   "execution_count": 26
  },
  {
   "metadata": {},
   "cell_type": "markdown",
   "source": "Se observa que en los datos existe balanceo de información por lo que no hay problema para usar nuestro modelo de aprendizaje supervisado.",
   "id": "327f64849e64811d"
  },
  {
   "metadata": {},
   "cell_type": "markdown",
   "source": [
    "### Definicion de las variables caracteristicas (x) y variable objetivo (Y)\n",
    "Una vez que se ha explorado la base de datos y se conoce que se quiere realizar es importante declarar las variables que serán usadas para predecir y la variable de respuesta para poder generar un modelo optimo.\n"
   ],
   "id": "1b4ea5065e21eb0c"
  },
  {
   "metadata": {
    "ExecuteTime": {
     "end_time": "2025-03-26T15:50:45.447807Z",
     "start_time": "2025-03-26T15:50:45.441813Z"
    }
   },
   "cell_type": "code",
   "source": [
    "target = 'Cluster'\n",
    "predictors = ['Age', 'Gender', 'Screen Time Type', 'Day Type', 'Average Screen Time (hours)']"
   ],
   "id": "a93fa1b51b4c6010",
   "outputs": [],
   "execution_count": 32
  },
  {
   "metadata": {},
   "cell_type": "markdown",
   "source": "#### Division de la información",
   "id": "b9c949c0c274662d"
  },
  {
   "metadata": {
    "ExecuteTime": {
     "end_time": "2025-03-26T15:50:46.985596Z",
     "start_time": "2025-03-26T15:50:46.964463Z"
    }
   },
   "cell_type": "code",
   "source": [
    "X = df[predictors]  # Variables predictoras\n",
    "y = df[target]  # Variable objetivo\n",
    "\n",
    "# Dividir en conjunto de entrenamiento (80%) y prueba (20%)\n",
    "X_train, X_test, y_train, y_test = train_test_split(X, y, test_size=0.2, random_state=42, stratify=y)"
   ],
   "id": "48dd638077151257",
   "outputs": [],
   "execution_count": 33
  },
  {
   "metadata": {
    "ExecuteTime": {
     "end_time": "2025-03-26T15:53:52.004257Z",
     "start_time": "2025-03-26T15:53:51.925244Z"
    }
   },
   "cell_type": "code",
   "source": [
    "# Ver cuántas variables predictoras hay\n",
    "num_features = X_train.shape[1]  # Esto es clave\n",
    "\n",
    "# Estandarizar los datos\n",
    "scaler = StandardScaler()\n",
    "X_train_scaled = scaler.fit_transform(X_train)\n",
    "X_test_scaled = scaler.transform(X_test)\n",
    "\n",
    "# Crear y entrenar el modelo de regresión logística\n",
    "model = LogisticRegression(max_iter=1000, class_weight='balanced', random_state=42)\n",
    "model.fit(X_train_scaled, y_train)\n",
    "\n",
    "# Predecir con el conjunto de prueba\n",
    "y_pred = model.predict(X_test_scaled)\n",
    "\n",
    "# Evaluar el modelo\n",
    "accuracy = accuracy_score(y_test, y_pred)\n",
    "conf_matrix = confusion_matrix(y_test, y_pred)\n",
    "class_report = classification_report(y_test, y_pred)\n",
    "roc_auc = roc_auc_score(y_test, model.predict_proba(X_test_scaled)[:, 1])\n",
    "\n",
    "print(f\"Accuracy: {accuracy}\")\n",
    "print(f\"Confusion Matrix:\\n{conf_matrix}\")\n",
    "print(f\"Classification Report:\\n{class_report}\")\n",
    "print(f\"ROC AUC Score: {roc_auc}\")"
   ],
   "id": "bd5965ef9918cdf6",
   "outputs": [
    {
     "name": "stdout",
     "output_type": "stream",
     "text": [
      "Accuracy: 1.0\n",
      "Confusion Matrix:\n",
      "[[14  0]\n",
      " [ 0 13]]\n",
      "Classification Report:\n",
      "              precision    recall  f1-score   support\n",
      "\n",
      "           0       1.00      1.00      1.00        14\n",
      "           1       1.00      1.00      1.00        13\n",
      "\n",
      "    accuracy                           1.00        27\n",
      "   macro avg       1.00      1.00      1.00        27\n",
      "weighted avg       1.00      1.00      1.00        27\n",
      "\n",
      "ROC AUC Score: 1.0\n"
     ]
    }
   ],
   "execution_count": 34
  },
  {
   "metadata": {},
   "cell_type": "markdown",
   "source": "Ahora se quiere hacer una predicción con el modelo realizado. Se quiere evaluar un niño de 10 años, masculino (Male), que usa la pantalla para recreación (Recreational), en un día de fin de semana (Weekend), con un promedio de 4 horas de pantalla.",
   "id": "c6a8f575bd05abf5"
  },
  {
   "metadata": {
    "ExecuteTime": {
     "end_time": "2025-03-26T16:00:30.460082Z",
     "start_time": "2025-03-26T16:00:30.448831Z"
    }
   },
   "cell_type": "code",
   "source": [
    "new_observation = pd.DataFrame({\n",
    "    'Age': [10],\n",
    "    'Gender': [0],  # Male → 0\n",
    "    'Screen Time Type': [1],  # Recreational → 1\n",
    "    'Day Type': [1],  # Weekend → 1\n",
    "    'Average Screen Time (hours)': [4.0]\n",
    "})\n",
    "\n",
    "# Estandarizar la observación usando el scaler entrenado\n",
    "new_observation_scaled = scaler.transform(new_observation)\n",
    "\n",
    "# Hacer la predicción del cluster\n",
    "predicted_cluster = model.predict(new_observation_scaled)\n",
    "predicted_probability = model.predict_proba(new_observation_scaled)\n",
    "\n",
    "print(f\"\\nPredicción para la nueva observación: Cluster {predicted_cluster[0]}\")\n",
    "print(f\"Probabilidades por cluster: {predicted_probability[0]}\")"
   ],
   "id": "60e02197e798ec4a",
   "outputs": [
    {
     "name": "stdout",
     "output_type": "stream",
     "text": [
      "\n",
      "Predicción para la nueva observación: Cluster 0\n",
      "Probabilidades por cluster: [0.98715176 0.01284824]\n"
     ]
    }
   ],
   "execution_count": 41
  }
 ],
 "metadata": {
  "kernelspec": {
   "display_name": "Python 3",
   "language": "python",
   "name": "python3"
  },
  "language_info": {
   "codemirror_mode": {
    "name": "ipython",
    "version": 2
   },
   "file_extension": ".py",
   "mimetype": "text/x-python",
   "name": "python",
   "nbconvert_exporter": "python",
   "pygments_lexer": "ipython2",
   "version": "2.7.6"
  }
 },
 "nbformat": 4,
 "nbformat_minor": 5
}
